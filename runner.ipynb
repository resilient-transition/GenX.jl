{
 "cells": [
  {
   "cell_type": "markdown",
   "id": "0",
   "metadata": {},
   "source": [
    "## Set up `GenX` Project in Current Folder\n",
    "\n",
    "This step assumes you've installed `julia` already but have not set up the current `GenX` project folder."
   ]
  },
  {
   "cell_type": "code",
   "execution_count": null,
   "id": "1",
   "metadata": {},
   "outputs": [],
   "source": [
    "!julia --project=. Install.jl"
   ]
  },
  {
   "cell_type": "markdown",
   "id": "2",
   "metadata": {},
   "source": [
    "## Export `GenX` Input CSVs from Spreadsheet"
   ]
  },
  {
   "cell_type": "code",
   "execution_count": null,
   "id": "3",
   "metadata": {},
   "outputs": [],
   "source": [
    "import shutil\n",
    "\n",
    "import xlwings as xw\n",
    "import pandas as pd\n",
    "from collections import defaultdict\n",
    "import os\n",
    "from upath import UPath\n",
    "from loguru import logger\n",
    "import sys\n",
    "from datetime import datetime\n",
    "\n",
    "logger.remove()\n",
    "logger.add(sys.stderr, backtrace=False)"
   ]
  },
  {
   "cell_type": "markdown",
   "id": "4",
   "metadata": {},
   "source": [
    "- [x] Do the xlwings thing where the SharePoint path is updated in the spreadsheet -> used VBA UDF\n",
    "- [ ] Do we need something like `kit-ui connect`? I don't think so\n",
    "- [ ] File picker to connect to spreadsheet?\n",
    "- [x] Format this notebook before committing\n",
    "- [x] Copy Run.jl\n",
    "- [x] Copy settings\n",
    "- [ ] Check that demand_data, fuel_data, and generator_variability CSVs have the same length\n",
    "- [ ] Save a mapping of the planning period to year, so that it can be read in by spreadsheet, or when concatenating the dataframe (instead of guessing)"
   ]
  },
  {
   "cell_type": "code",
   "execution_count": null,
   "id": "5",
   "metadata": {},
   "outputs": [],
   "source": [
    "wb = xw.Book(\n",
    "    '/Users/roderick/Library/CloudStorage/OneDrive-SharedLibraries-ResilientTransition/5.001 Kentucky Resource Council - Documents/Data/Kentucky Load Resource Model.xlsb'\n",
    ")"
   ]
  },
  {
   "cell_type": "code",
   "execution_count": null,
   "id": "6",
   "metadata": {},
   "outputs": [],
   "source": [
    "def save_case(base_folder: UPath, case_subfolder: str | None = None):\n",
    "    global name, range, col\n",
    "    # Get CSV names as a nested dictionary (since some CSVs have been split into multiple separate tables\n",
    "    # Named ranges have the format of [csv file name]...[#]...[optional transformation, either .T or .ffill]\n",
    "    csv_names = defaultdict(list)\n",
    "    for name in wb.names:\n",
    "        if \".csv\" in name.name:\n",
    "            csv_names[name.name.split(\"...\")[0]].append(name)\n",
    "    for csv_name, ranges in csv_names.items():\n",
    "        dfs = []\n",
    "        for rng in ranges:\n",
    "            # Get each range as a dataframe\n",
    "            df = rng.refers_to_range.options(pd.DataFrame, index=0,\n",
    "                                               header=(1 if not rng.name.endswith(\"...T\") else 0)).value\n",
    "            df = df.dropna(how=\"all\", axis=1)\n",
    "            df = df.dropna(how=\"all\", axis=0)\n",
    "            if \"resource\" in df.columns:\n",
    "                df = df.dropna(subset=\"resource\", axis=0)\n",
    "            if \"drop\" in df.columns:\n",
    "                df = df[df[\"drop\"] != True]\n",
    "\n",
    "            # Apply optional transform\n",
    "            if rng.name.endswith(\"...T\"):\n",
    "                df = df.set_index(df.columns[0])\n",
    "                df = df.T\n",
    "            elif rng.name.endswith(\"...ffill\"):\n",
    "                df = df.ffill()\n",
    "            elif rng.name.endswith(\"...drop...1\"):\n",
    "                df = df.iloc[:, [0, -1]]\n",
    "                df = df.dropna(how=\"any\")\n",
    "            elif rng.name.endswith(\"...drop...3\"):\n",
    "                df = df.iloc[:, [0, -3, -2, -1]]\n",
    "                df = df.dropna(how=\"any\")\n",
    "\n",
    "            if csv_name in [\n",
    "                \"resources\\\\policy_assignments\\\\Resource_NQC_derate.csv\",\n",
    "                \"resources\\\\policy_assignments\\\\ELCC_multipliers.csv\",\n",
    "                \"resources\\\\Resource_multistage_data.csv\",\n",
    "            ]:\n",
    "                df = df.rename(columns={\"resource\": \"Resource\"})\n",
    "\n",
    "            # Change types for columns to int & strings\n",
    "            int_columns = [\n",
    "                col for col in df.columns if col in\n",
    "                 [\n",
    "                     \"can_retire\",\n",
    "                     \"zone\",\n",
    "                     \"new_build\",\n",
    "                     \"model\",\n",
    "                     \"lds\",\n",
    "                     \"Time_Index\"\n",
    "                 ]\n",
    "            ]\n",
    "            df[int_columns] = df[int_columns].astype(int)\n",
    "\n",
    "            str_columns = [\n",
    "                col for col in df.columns if col in\n",
    "                 [\n",
    "                     \"cluster\",\n",
    "                     \"region\",\n",
    "                 ]\n",
    "            ]\n",
    "            df[str_columns] = df[str_columns].astype(str)\n",
    "\n",
    "            if df.isna().any().any():\n",
    "                logger.error(f\"{csv_name} has blank cells. GenX currently does not have consistent handling of missing data, so please fill in or add placeholder values.\")\n",
    "\n",
    "            dfs.append(df)\n",
    "\n",
    "        # Join all the dfs\n",
    "        final_df = pd.concat([df.reset_index(drop=True) for df in dfs], axis=1)\n",
    "\n",
    "        # Save joined dataframe to CSV\n",
    "        planning_period_folder = base_folder / case_subfolder if case_subfolder else base_folder\n",
    "        filepath = planning_period_folder / csv_name.replace(\"\\\\\", os.sep)\n",
    "        filepath.parent.mkdir(parents=True, exist_ok=True)\n",
    "        final_df.to_csv(filepath, index=False)"
   ]
  },
  {
   "cell_type": "code",
   "execution_count": null,
   "id": "7",
   "metadata": {},
   "outputs": [],
   "source": [
    "base_folder = UPath(wb.names[\"BaseFolder\"].refers_to_range.value)\n",
    "case_name = wb.names[\"CaseName\"].refers_to_range.value\n",
    "\n",
    "if base_folder.exists():\n",
    "    logger.warning(f\"Overwriting case: {base_folder}\")\n",
    "\n",
    "planning_periods = wb.sheets[\"GenX Settings\"].tables[\"ModeledYears\"].range.options(pd.DataFrame, index=1).value.dropna().index.astype(int).values\n",
    "\n",
    "counter = 1\n",
    "for planning_period in planning_periods:\n",
    "    wb.sheets[\"GenX Settings\"].range(\"ActiveYear\").value = planning_period\n",
    "    wb.app.calculate()\n",
    "\n",
    "    logger.info(f\"Saving case inputs for {planning_period}: (inputs_p{counter})\")\n",
    "    save_case(base_folder=base_folder, case_subfolder=f\"inputs/inputs_p{counter}\")\n",
    "    counter += 1\n",
    "\n",
    "    # Save settings .yml files\n",
    "    wb.sheets[\"GenX Settings\"].range(\"settings\\genx_settings.yml\").options(pd.DataFrame).value\n",
    "\n",
    "# Settings\n",
    "logger.info(\"Saving settings...\")\n",
    "\n",
    "base_settings_folder = UPath(\"/Users/roderick/PycharmProjects/resilient-transition/GenX.jl/__base_settings__\")\n",
    "\n",
    "if (base_folder / \"settings\").exists():\n",
    "    shutil.rmtree(base_folder / \"settings\")\n",
    "shutil.copytree(base_settings_folder, base_folder / \"settings\")\n",
    "\n",
    "wb.sheets[\"GenX Settings\"].range(r\"settings\\genx_settings.yml\").options(pd.Series, header=False).value.astype(int).reset_index().astype(str).agg(\"\".join, axis=1).to_csv(base_folder / \"settings\" / \"genx_settings.yml\", index=False, header=False, sep=\"\\t\")\n",
    "\n",
    "wb.sheets[\"GenX Settings\"].range(r\"settings\\multi_stage_settings.yml\").options(pd.Series, header=False).value.apply(lambda x: int(x) if isinstance(x, (float, bool, int)) else x).reset_index().astype(str).agg(\"\".join, axis=1).to_csv(base_folder / \"settings\" / \"multi_stage_settings.yml\", index=False, header=False, sep=\"\\t\")\n",
    "\n",
    "wb.sheets[\"GenX Settings\"].range(r\"settings\\time_domain_reduction_settings.yml\").options(pd.Series, header=False).value.replace({None: \" \"}).apply(lambda x: int(x) if isinstance(x, (float, bool, int)) else x).reset_index().astype(str).agg(\"\".join, axis=1).replace({\"None\": \"\"}).to_csv(base_folder / \"settings\" / \"time_domain_reduction_settings.yml\", index=False, header=False, sep=\"\\t\")\n",
    "\n",
    "logger.success(f\"Saved multi-stage capacity expansion case: {case_name}\")"
   ]
  },
  {
   "cell_type": "markdown",
   "id": "8",
   "metadata": {},
   "source": [
    "## Running Case"
   ]
  },
  {
   "cell_type": "code",
   "execution_count": null,
   "id": "9",
   "metadata": {},
   "outputs": [],
   "source": [
    "!julia --project=. Run.jl $base_folder"
   ]
  },
  {
   "cell_type": "code",
   "execution_count": null,
   "id": "10",
   "metadata": {},
   "outputs": [],
   "source": [
    "# Total Capacity\n",
    "portfolio = pd.read_csv(base_folder / \"results\" / \"capacities_multi_stage.csv\", index_col=0)\n",
    "portfolio = portfolio[[col for col in portfolio.columns if not col.startswith(\"StartCap\")]]\n",
    "wb.sheets[\"GenX Results\"].range(\"capacities_multi_stage\").value = portfolio\n",
    "\n",
    "# Builds\n",
    "periods_range = range(1, len(list((base_folder / \"results\").glob(\"results_p*\"))) + 1)\n",
    "\n",
    "\n",
    "builds = pd.concat([pd.read_csv(base_folder / \"results\" / f\"results_p{p}\" / \"capacity.csv\", index_col=0)[\"NewCap\"] for p in periods_range], axis=1)\n",
    "wb.sheets[\"GenX Results\"].range(\"capacities\").value = builds\n",
    "\n",
    "# CFs\n",
    "cfs = pd.concat([pd.read_csv(base_folder / \"results\" / f\"results_p{p}\" / \"capacityfactor.csv\", index_col=0)[\"CapacityFactor\"] for p in periods_range], axis=1)\n",
    "wb.sheets[\"GenX Results\"].range(\"cfs\").value = cfs\n",
    "\n",
    "\n",
    "wb.sheets[\"GenX Results\"].activate()\n",
    "wb.app.calculate()\n",
    "print(f\"Loaded results at: {datetime.now()}\")"
   ]
  },
  {
   "cell_type": "code",
   "execution_count": null,
   "id": "11",
   "metadata": {},
   "outputs": [],
   "source": []
  }
 ],
 "metadata": {
  "kernelspec": {
   "display_name": "Python 3 (ipykernel)",
   "language": "python",
   "name": "python3"
  },
  "language_info": {
   "codemirror_mode": {
    "name": "ipython",
    "version": 3
   },
   "file_extension": ".py",
   "mimetype": "text/x-python",
   "name": "python",
   "nbconvert_exporter": "python",
   "pygments_lexer": "ipython3",
   "version": "3.12.2"
  }
 },
 "nbformat": 4,
 "nbformat_minor": 5
}
