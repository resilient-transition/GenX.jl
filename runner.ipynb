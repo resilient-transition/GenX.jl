{
 "cells": [
  {
   "cell_type": "markdown",
   "id": "0",
   "metadata": {},
   "source": [
    "## Set up `GenX` Project in Current Folder\n",
    "\n",
    "This step assumes you've installed `julia` already but have not set up the current `GenX` project folder."
   ]
  },
  {
   "cell_type": "code",
   "execution_count": null,
   "id": "1",
   "metadata": {},
   "outputs": [],
   "source": [
    "!julia --project=. Install.jl"
   ]
  },
  {
   "cell_type": "markdown",
   "id": "2",
   "metadata": {},
   "source": [
    "## Export `GenX` Input CSVs from Spreadsheet"
   ]
  },
  {
   "cell_type": "code",
   "execution_count": null,
   "id": "3",
   "metadata": {},
   "outputs": [],
   "source": [
    "import shutil\n",
    "\n",
    "import xlwings as xw\n",
    "import pandas as pd\n",
    "from collections import defaultdict\n",
    "import os\n",
    "from upath import UPath\n",
    "from loguru import logger\n",
    "import sys\n",
    "from datetime import datetime\n",
    "from runner import *\n",
    "\n",
    "logger.remove()\n",
    "logger.add(sys.stderr, backtrace=False)\n",
    "\n",
    "wb = xw.Book(\n",
    "    '/Users/roderick/Library/CloudStorage/OneDrive-SharedLibraries-ResilientTransition/5.001 Kentucky Resource Council - Documents/Data/Kentucky Load Resource Model.xlsb'\n",
    ")"
   ]
  },
  {
   "cell_type": "markdown",
   "id": "4",
   "metadata": {},
   "source": [
    "- [x] Do the xlwings thing where the SharePoint path is updated in the spreadsheet -> used VBA UDF\n",
    "- [ ] Do we need something like `kit-ui connect`? I don't think so\n",
    "- [ ] File picker to connect to spreadsheet?\n",
    "- [x] Format this notebook before committing\n",
    "- [x] Copy Run.jl\n",
    "- [x] Copy settings\n",
    "- [ ] Check that demand_data, fuel_data, and generator_variability CSVs have the same length\n",
    "- [x] Save a mapping of the planning period to year, so that it can be read in by spreadsheet, or when concatenating the dataframe (instead of guessing)"
   ]
  },
  {
   "cell_type": "markdown",
   "id": "5",
   "metadata": {},
   "source": [
    "# Run"
   ]
  },
  {
   "cell_type": "code",
   "execution_count": null,
   "id": "6",
   "metadata": {},
   "outputs": [],
   "source": [
    "def update_params_and_save_case(*, params: tuple, wb: xw.Book):\n",
    "    logger.info(f\"Updating params: {params}\")\n",
    "    for param, value in params.items():\n",
    "        wb.sheets[\"GenX Settings\"].range(param).value = value\n",
    "    \n",
    "    base_folder = save_multistage_case(wb=wb)\n",
    "    return base_folder\n",
    "\n",
    "def run_and_load_case(*, wb: xw.Book):\n",
    "    import subprocess\n",
    "    base_folder = save_multistage_case(wb=wb)\n",
    "    subprocess.run([\"julia\", \"--project=.\", \"Run.jl\", base_folder])\n",
    "    load_case_results(wb=wb, base_folder=base_folder)\n",
    "\n",
    "# def update_params_and_run(*, params: tuple, wb: xw.Book):\n",
    "#     \"\"\"Update params on GenX Settings and run the GenX case.\"\"\"\n",
    "#     logger.info(f\"Updating params: {params}\")\n",
    "#     for param, value in params.items():\n",
    "#         wb.sheets[\"GenX Settings\"].range(param).value = value\n",
    "    \n",
    "#     wb.sheets[\"GenX Results\"].api.autofilter_mode.set(False)\n",
    "#     run_and_load_case(wb=wb)\n",
    "\n",
    "#     report_wb = xw.Book()\n",
    "#     wb.sheets[\"GenX Results\"].copy(after=report_wb.sheets[0])\n",
    "#     report_wb.save(UPath(wb.sheets[\"GenX Settings\"].range(\"BaseFolder\").value) / \"results\" / \"figures.xlsm\")\n",
    "#     report_wb.close()"
   ]
  },
  {
   "cell_type": "code",
   "execution_count": null,
   "id": "7",
   "metadata": {},
   "outputs": [],
   "source": [
    "params = {\n",
    "    # \"EnablePCM\": [False],\n",
    "    # \"IncludePlannedResources\": [False],\n",
    "    # \"AllowEconomicRetirements\": [True],\n",
    "    \"IncludePTC\": [\"IRA\"], #, \"BBB\"],\n",
    "    # \"AEO\": [2023],\n",
    "    \"NoNewGasYear\": [2040],\n",
    "    \"MaxWind\": [1000],\n",
    "    # \"FlexReserveReq\": [0.06],\n",
    "}\n",
    "\n",
    "import itertools\n",
    "combinations = [dict(zip(params.keys(), v)) for v in itertools.product(*params.values())]\n",
    "\n",
    "# addl_params = {\n",
    "#     # \"EnablePCM\": [False],\n",
    "#     # \"IncludePlannedResources\": [False],\n",
    "#     # \"AllowEconomicRetirements\": [False],\n",
    "#     \"IncludePTC\": [\"IRA\", \"BBB\"],\n",
    "#     # \"AEO\": [2023],\n",
    "#     \"NoNewGasYear\": [2050],\n",
    "#     \"MaxWind\": [1000],\n",
    "#     # \"FlexReserveReq\": [0.06],\n",
    "# }\n",
    "# combinations += [dict(zip(addl_params.keys(), v)) for v in itertools.product(*addl_params.values())]\n",
    "combinations"
   ]
  },
  {
   "cell_type": "code",
   "execution_count": null,
   "id": "8",
   "metadata": {},
   "outputs": [],
   "source": [
    "from joblib import Parallel, delayed\n",
    "import subprocess\n",
    "\n",
    "folders = []\n",
    "for i, combo in enumerate(combinations): \n",
    "    logger.info(f\"Saving case: {i+1} of {len(combinations)}\")\n",
    "    folders.append(update_params_and_save_case(params=combo, wb=wb))\n",
    "\n",
    "logger.info(\"Running GenX cases in parallel...\")\n",
    "Parallel(n_jobs=6, backend=\"multiprocessing\")(delayed(subprocess.run)([\"julia\", \"--project=.\", \"Run.jl\", base_folder]) for base_folder in folders)\n",
    "\n",
    "for folder in folders:\n",
    "    !chmod -R 777 ./\n",
    "    load_case_results(wb=wb, base_folder=UPath(folder))"
   ]
  },
  {
   "cell_type": "code",
   "execution_count": null,
   "id": "9",
   "metadata": {},
   "outputs": [],
   "source": [
    "folders"
   ]
  },
  {
   "cell_type": "code",
   "execution_count": null,
   "id": "10",
   "metadata": {},
   "outputs": [],
   "source": [
    "for folder in [UPath(\"/Users/roderick/PycharmProjects/resilient-transition/GenX.jl/cases/2025-06-05/KRC-6Years-24Days-NoPlan-Retire-BBB-NoGasAfter2040-Wind1GW\")]:\n",
    "    # Load portfolio into spreadsheet\n",
    "    load_case_results(wb=wb, base_folder=folder)\n",
    "    \n",
    "    # Save PCM cases\n",
    "    wb.sheets[\"GenX Settings\"].range(\"EnablePCM\").value = True\n",
    "    wb.sheets[\"GenX Settings\"].range(\"PCMPortfolio\").value = str(folder)\n",
    "\n",
    "    pcm_folder = save_multistage_case(wb=wb)\n",
    "    subprocess.run([\"julia\", \"--project=.\", \"Run.jl\", pcm_folder])\n",
    "    wb.sheets[\"GenX Settings\"].range(\"EnablePCM\").value = False"
   ]
  },
  {
   "cell_type": "code",
   "execution_count": null,
   "id": "11",
   "metadata": {},
   "outputs": [],
   "source": [
    "for folder in folders:\n",
    "    df = pd.read_csv(folder / \"results\" / \"capacities_multi_stage.csv\")\n",
    "    df = df.loc[df[\"Resource\"].str.contains(\"Battery\"), [\"Resource\", \"EndCap_p6\"]]\n",
    "    print(folder.stem, df)"
   ]
  },
  {
   "cell_type": "markdown",
   "id": "12",
   "metadata": {},
   "source": [
    "# PCM"
   ]
  },
  {
   "cell_type": "code",
   "execution_count": null,
   "id": "13",
   "metadata": {},
   "outputs": [],
   "source": [
    "portfolio_to_load = UPath(\"/Users/roderick/PycharmProjects/resilient-transition/GenX.jl/cases/2025-05-27/KRC-26Years-24Days-NoPlan-Retire-Build-Fuels-BBB-PRM-MinCF-0-1GWRate\")"
   ]
  },
  {
   "cell_type": "code",
   "execution_count": null,
   "id": "14",
   "metadata": {},
   "outputs": [],
   "source": [
    "# Load portfolio into spreadsheet\n",
    "load_case_results(wb=wb,base_folder=portfolio)\n",
    "df = pd.read_csv(portfolio / \"planning_periods.csv\").iloc[:, 1].squeeze()\n",
    "# wb.sheets[\"GenX Settings\"].range(\"ModeledYears[Modeled]\").options(transpose=True).value = df.values"
   ]
  },
  {
   "cell_type": "code",
   "execution_count": null,
   "id": "15",
   "metadata": {},
   "outputs": [],
   "source": [
    "# Save PCM cases\n",
    "wb.sheets[\"GenX Settings\"].range(\"EnablePCM\").value = True\n",
    "wb.sheets[\"GenX Settings\"].activate()\n",
    "run_and_load_case(wb=wb)\n",
    "wb.sheets[\"GenX Settings\"].range(\"EnablePCM\").value = False"
   ]
  },
  {
   "cell_type": "code",
   "execution_count": null,
   "id": "16",
   "metadata": {},
   "outputs": [],
   "source": [
    "wb = xw.Book(\n",
    "    \"/Users/roderick/Library/CloudStorage/OneDrive-SharedLibraries-ResilientTransition/5.001 Kentucky Resource Council - Documents/Data/Kentucky Load Resource Model.xlsb\"\n",
    ")\n",
    "type_map = wb.sheets[\"GenX Resources\"].range(\"TypeMap\").options(pd.DataFrame, index=0).value.dropna().set_index(\"resource\").squeeze(axis=1).to_dict()"
   ]
  },
  {
   "cell_type": "markdown",
   "id": "17",
   "metadata": {},
   "source": [
    "# TDR Clustering Visualization\n",
    "\n",
    "- [ ] Plots\n",
    "- [ ] Are TDRs the same for every planning period? If not, how much are they changing?"
   ]
  },
  {
   "cell_type": "code",
   "execution_count": null,
   "id": "18",
   "metadata": {},
   "outputs": [],
   "source": [
    "import plotly.graph_objects as go\n",
    "import plotly.io as pio\n",
    "\n",
    "axes = dict(\n",
    "    showgrid=False,\n",
    "    linecolor=\"rgb(120, 120, 120)\",\n",
    "    linewidth=1,\n",
    "    showline=True,\n",
    "    ticks=\"outside\",\n",
    "    tickcolor=\"rgb(120, 120, 120)\",\n",
    "    mirror=True,\n",
    ")\n",
    "\n",
    "pio.templates[\"e3\"] = go.layout.Template(\n",
    "    layout=go.Layout(\n",
    "        font=dict(family=\"CommitMono\", size=11, color=\"rgb(120, 120, 120)\"),\n",
    "        title=dict(\n",
    "            font=dict(\n",
    "                # size=32,\n",
    "                color=\"rgb(3, 78, 110)\",\n",
    "            ),\n",
    "            x=0.05,\n",
    "            y=0.95,\n",
    "            xanchor=\"left\",\n",
    "            yanchor=\"bottom\",\n",
    "        ),\n",
    "        xaxis=axes,\n",
    "        yaxis=axes,\n",
    "        margin=dict(t=60, b=100, r=60, l=60),\n",
    "    )\n",
    ")\n",
    "\n",
    "pio.templates[\"5.4x12.32\"] = go.layout.Template(\n",
    "    layout=go.Layout(\n",
    "        height=5.4 * 144,\n",
    "        width=12.32 * 144,\n",
    "    )\n",
    ")\n",
    "\n",
    "pio.templates.default = \"e3\""
   ]
  },
  {
   "cell_type": "code",
   "execution_count": null,
   "id": "19",
   "metadata": {},
   "outputs": [],
   "source": [
    "import yaml\n",
    "import pandas as pd\n",
    "from upath import UPath\n",
    "from plotly.subplots import make_subplots\n",
    "import plotly.graph_objects as go\n",
    "\n",
    "base_path = base_folder / \"inputs\" / \"inputs_p1\"\n",
    "timeseries_to_compare = {\n",
    "    \"Demand_data.csv\": [(\"Demand_MW_z1\", \"rgba(54, 176, 72, 0.5)\")],\n",
    "    \"Generators_variability.csv\": [\n",
    "        (\"Solar:0\", \"rgba(255, 192, 0, 0.5)\"),\n",
    "        (\"Wind:0\", \"rgba(49, 235, 255, 0.5)\"),\n",
    "        (\"Wind - New Generic:0\", \"rgba(49, 235, 255, 0.5)\"),\n",
    "        (\"Wind - New Generic:1\", \"rgba(49, 235, 255, 0.5)\"),\n",
    "        (\"Wind - New Generic:2\", \"rgba(49, 235, 255, 0.5)\"),\n",
    "        (\"Wind - New Generic:3\", \"rgba(49, 235, 255, 0.5)\"),\n",
    "        (\"Solar - New Generic:0\", \"rgba(255, 192, 0, 0.5)\"),\n",
    "        (\"Solar - New Generic:1\", \"rgba(255, 192, 0, 0.5)\"),\n",
    "        (\"Solar - New Generic:2\", \"rgba(255, 192, 0, 0.5)\"),\n",
    "        (\"Solar - New Generic:3\", \"rgba(255, 192, 0, 0.5)\"),\n",
    "    ],\n",
    "}\n",
    "\n",
    "\n",
    "def tdr_plots(base_path: UPath, timeseries_to_compare: dict[str, list[str]]):\n",
    "    # Get TDR settings & period mapping\n",
    "    with open(base_path / \"TDR_results\" / \"time_domain_reduction_settings.yml\", \"r\") as f:\n",
    "        tdr_settings = yaml.load(f, Loader=yaml.SafeLoader)\n",
    "\n",
    "    period_map = pd.read_csv(base_path / \"TDR_results\" / \"Period_map.csv\", dtype=int)\n",
    "\n",
    "    with open(base_path / \"tdr_plots.html\", \"w\") as tdr_plots_file:\n",
    "        # Get timeseries to plot\n",
    "        for i, (csv_file, columns) in enumerate(timeseries_to_compare.items()):\n",
    "            for column, color_str in columns:\n",
    "                logger.info(f\"Plotting {csv_file}: {column}\")\n",
    "                df = pd.read_csv(base_path / \"system\" / csv_file)[[\"Time_Index\", column]]\n",
    "\n",
    "                df[\"Period_Index\"] = ((df[\"Time_Index\"] - 1) // tdr_settings[\"TimestepsPerRepPeriod\"]) + 1\n",
    "                df[\"Hour\"] = (df[\"Time_Index\"]) - ((df[\"Period_Index\"] - 1) * tdr_settings[\"TimestepsPerRepPeriod\"])\n",
    "                df[\"Rep_Period\"] = df.merge(period_map, on=\"Period_Index\")[\"Rep_Period\"]\n",
    "\n",
    "                df = df.merge(\n",
    "                    df[[\"Period_Index\", \"Hour\", column]],\n",
    "                    left_on=[\"Rep_Period\", \"Hour\"],\n",
    "                    right_on=[\"Period_Index\", \"Hour\"],\n",
    "                    suffixes=[\"_original\", \"_sampled\"],\n",
    "                )[[f\"{column}_original\", f\"{column}_sampled\"]]\n",
    "                df.index = pd.Timestamp(\"1/1/2007\") + pd.to_timedelta(df.index, unit=\"h\")\n",
    "\n",
    "                # Plot\n",
    "                fig = make_subplots(\n",
    "                    rows=2,\n",
    "                    cols=1,\n",
    "                    subplot_titles=[\"Chronological\", \"Duration Curve\"],\n",
    "                    vertical_spacing=0.15,\n",
    "                )\n",
    "                fig.update_layout(\n",
    "                    title_text=f\"Time Domain Reduction Comparison:<br><b>{column}\",\n",
    "                    legend_tracegroupgap=180,\n",
    "                    width=1000,\n",
    "                    height=500,\n",
    "                )\n",
    "\n",
    "                # Chronological\n",
    "                fig.add_trace(\n",
    "                    go.Scatter(\n",
    "                        x=df.index,\n",
    "                        y=df[f\"{column}_original\"],\n",
    "                        name=\"Original\",\n",
    "                        legendgroup=1,\n",
    "                        line=dict(\n",
    "                            color=\"rgba(20, 20, 20, 0.5)\",\n",
    "                            width=1,\n",
    "                        ),\n",
    "                    ),\n",
    "                    row=1,\n",
    "                    col=1,\n",
    "                )\n",
    "                fig.add_trace(\n",
    "                    go.Scatter(\n",
    "                        x=df.index,\n",
    "                        y=df[f\"{column}_sampled\"],\n",
    "                        name=\"Sampled\",\n",
    "                        legendgroup=1,\n",
    "                        line=dict(\n",
    "                            color=color_str,\n",
    "                            width=1,\n",
    "                        ),\n",
    "                    ),\n",
    "                    row=1,\n",
    "                    col=1,\n",
    "                )\n",
    "\n",
    "                # Duration curve\n",
    "                fig.add_trace(\n",
    "                    go.Scatter(\n",
    "                        y=df[f\"{column}_original\"].sort_values(ascending=False, ignore_index=True),\n",
    "                        name=\"Original\",\n",
    "                        legendgroup=2,\n",
    "                        line=dict(\n",
    "                            color=\"rgba(20, 20, 20, 0.5)\",\n",
    "                            width=1,\n",
    "                        ),\n",
    "                    ),\n",
    "                    row=2,\n",
    "                    col=1,\n",
    "                )\n",
    "                fig.add_trace(\n",
    "                    go.Scatter(\n",
    "                        y=df[f\"{column}_sampled\"].sort_values(ascending=False, ignore_index=True),\n",
    "                        name=\"Sampled\",\n",
    "                        legendgroup=2,\n",
    "                        line=dict(\n",
    "                            color=color_str,\n",
    "                            width=1,\n",
    "                        ),\n",
    "                    ),\n",
    "                    row=2,\n",
    "                    col=1,\n",
    "                )\n",
    "                tdr_plots_file.write(fig.to_html(full_html=False, include_plotlyjs=\"cdn\" if i == 0 else None))\n",
    "        logger.info(f\"Interactive plots saved: {base_path / 'tdr_plots.html'}\")\n",
    "\n",
    "\n",
    "tdr_plots(base_path, timeseries_to_compare)"
   ]
  },
  {
   "cell_type": "markdown",
   "id": "20",
   "metadata": {},
   "source": [
    "# Temperature Investigation\n",
    "\n",
    "Seeing how ERA5 2m dewpoint temperature for Lexington (lat 38, lon -84.5) varies over years"
   ]
  },
  {
   "cell_type": "code",
   "execution_count": null,
   "id": "21",
   "metadata": {},
   "outputs": [],
   "source": [
    "df = pd.read_csv(UPath(\"/Users/roderick/Downloads/reanalysis-era5-single-levels-timeseries-sfcd_aowpko.csv\"), index_col=0, parse_dates=True)[[\"d2m\"]]\n",
    "df = ((df - 273.15) * 1.8) + 32"
   ]
  },
  {
   "cell_type": "code",
   "execution_count": null,
   "id": "22",
   "metadata": {},
   "outputs": [],
   "source": [
    "full = df.loc[(df.index.year>=1960) & (df.index.year<=2020)]\n",
    "full = full.squeeze().copy(deep=True).sort_values(ascending=False, ignore_index=True)\n",
    "full.index = full.index / len(full)\n",
    "full"
   ]
  },
  {
   "cell_type": "code",
   "execution_count": null,
   "id": "23",
   "metadata": {},
   "outputs": [],
   "source": [
    "shorter_range = (2007, 2010)\n",
    "shorter = df.loc[(df.index.year>=shorter_range[0]) & (df.index.year <= shorter_range[1])]\n",
    "shorter = shorter.squeeze().copy(deep=True).sort_values(ascending=False, ignore_index=True)\n",
    "shorter.index = shorter.index / len(shorter)\n",
    "shorter"
   ]
  },
  {
   "cell_type": "code",
   "execution_count": null,
   "id": "24",
   "metadata": {},
   "outputs": [],
   "source": [
    "import plotly.graph_objects as go\n",
    "\n",
    "go.Figure(\n",
    "    data=[\n",
    "        go.Scatter(x=full.index, y=full, name=\"1960-2020\"),\n",
    "        go.Scatter(x=shorter.index, y=shorter, name=\"-\".join(map(str, shorter_range))),\n",
    "    ]\n",
    ")"
   ]
  },
  {
   "cell_type": "code",
   "execution_count": null,
   "id": "25",
   "metadata": {},
   "outputs": [],
   "source": [
    "df[[\"year\", \"month\", \"day\", \"hour\"]] = list(zip(df.index.year, df.index.month, df.index.day, df.index.hour))\n",
    "df = pd.pivot_table(df, values=\"d2m\", columns=[\"year\"], index=[\"month\", \"day\", \"hour\"])\n",
    "df.max(axis=0).plot()"
   ]
  },
  {
   "cell_type": "code",
   "execution_count": null,
   "id": "26",
   "metadata": {},
   "outputs": [],
   "source": [
    "import plotly.express as px\n",
    "px.line(df.reset_index(drop=True))"
   ]
  },
  {
   "cell_type": "code",
   "execution_count": null,
   "id": "27",
   "metadata": {},
   "outputs": [],
   "source": [
    "df.max(axis=0)"
   ]
  },
  {
   "cell_type": "code",
   "execution_count": null,
   "id": "28",
   "metadata": {},
   "outputs": [],
   "source": []
  }
 ],
 "metadata": {
  "kernelspec": {
   "display_name": "Python 3 (ipykernel)",
   "language": "python",
   "name": "python3"
  },
  "language_info": {
   "codemirror_mode": {
    "name": "ipython",
    "version": 3
   },
   "file_extension": ".py",
   "mimetype": "text/x-python",
   "name": "python",
   "nbconvert_exporter": "python",
   "pygments_lexer": "ipython3",
   "version": "3.12.2"
  }
 },
 "nbformat": 4,
 "nbformat_minor": 5
}
